{
 "cells": [
  {
   "cell_type": "code",
   "execution_count": 19,
   "id": "dda02eb6",
   "metadata": {},
   "outputs": [],
   "source": [
    "import os, shutil"
   ]
  },
  {
   "cell_type": "code",
   "execution_count": 20,
   "id": "98a0d618",
   "metadata": {},
   "outputs": [],
   "source": [
    "path = r\"C:/Users/vishwanth/Downloads/nihal files/\""
   ]
  },
  {
   "cell_type": "code",
   "execution_count": 21,
   "id": "740f14a8",
   "metadata": {
    "scrolled": true
   },
   "outputs": [
    {
     "data": {
      "text/plain": [
       "['a.jpg',\n",
       " 'b.jpg',\n",
       " 'c.jpg',\n",
       " 'doc b.docx',\n",
       " 'doc c.docx',\n",
       " 'document a.docx',\n",
       " 'docx files',\n",
       " 'jpg files',\n",
       " 'nihals updated resume.pdf',\n",
       " 'pdf a.pdf',\n",
       " 'pdf b.pdf',\n",
       " 'pdf files']"
      ]
     },
     "execution_count": 21,
     "metadata": {},
     "output_type": "execute_result"
    }
   ],
   "source": [
    "file_name = os.listdir(path)\n",
    "os.listdir(path)"
   ]
  },
  {
   "cell_type": "code",
   "execution_count": 22,
   "id": "7db75acb",
   "metadata": {},
   "outputs": [],
   "source": [
    "folder_names = ['pdf files','jpg files','docx files']\n",
    "\n",
    "for loop in range(0,3):\n",
    "    if not os.path.exists(path + folder_names[loop]):\n",
    "        #print(path + folder_names[loop])\n",
    "        os.makedirs(path + folder_names[loop])"
   ]
  },
  {
   "cell_type": "code",
   "execution_count": 23,
   "id": "f96f9495",
   "metadata": {},
   "outputs": [],
   "source": [
    "for file in file_name:\n",
    "    if \".pdf\" in file and not os.path.exists(path + \"pdf files/\"+file):\n",
    "        shutil.move(path +file,path + \"pdf files/\"+file)\n",
    "    elif \".jpg\" in file and not os.path.exists(path + \"jpg files/\"+file):\n",
    "        shutil.move(path +file,path + \"jpg files/\"+file)\n",
    "    elif \".docx\" in file and not os.path.exists(path + \"docx files/\"+file):\n",
    "        shutil.move(path +file,path + \"docx files/\"+file)\n"
   ]
  },
  {
   "cell_type": "code",
   "execution_count": 24,
   "id": "0d54a008",
   "metadata": {},
   "outputs": [
    {
     "data": {
      "text/plain": [
       "['docx files', 'jpg files', 'pdf files']"
      ]
     },
     "execution_count": 24,
     "metadata": {},
     "output_type": "execute_result"
    }
   ],
   "source": [
    "file_name = os.listdir(path)\n",
    "os.listdir(path)"
   ]
  },
  {
   "cell_type": "code",
   "execution_count": null,
   "id": "341545d8",
   "metadata": {},
   "outputs": [],
   "source": []
  }
 ],
 "metadata": {
  "kernelspec": {
   "display_name": "Python 3",
   "language": "python",
   "name": "python3"
  },
  "language_info": {
   "codemirror_mode": {
    "name": "ipython",
    "version": 3
   },
   "file_extension": ".py",
   "mimetype": "text/x-python",
   "name": "python",
   "nbconvert_exporter": "python",
   "pygments_lexer": "ipython3",
   "version": "3.8.8"
  }
 },
 "nbformat": 4,
 "nbformat_minor": 5
}
